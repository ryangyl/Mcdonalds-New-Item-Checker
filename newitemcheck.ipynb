{
 "cells": [
  {
   "cell_type": "code",
   "execution_count": 17,
   "metadata": {},
   "outputs": [
    {
     "name": "stdout",
     "output_type": "stream",
     "text": [
      "Title: Home | McDonald’s® Singapore\n",
      "URL: https://www.mcdonalds.com.sg/\n",
      "\n",
      "McGriddles\n",
      "Yubari Melon\n"
     ]
    }
   ],
   "source": [
    "import urllib3\n",
    "urllib3.disable_warnings(urllib3.exceptions.InsecureRequestWarning)\n",
    "import requests\n",
    "from bs4 import BeautifulSoup\n",
    "from googlesearch import search\n",
    "import re\n",
    "\n",
    "query = \"Mcdonalds\"\n",
    "results = search(query, num=1, stop=1)\n",
    "for link in results:        \n",
    "    response = requests.get(link, verify=False)\n",
    "    response.raise_for_status()  # Check for request errors\n",
    "    \n",
    "    soup = BeautifulSoup(response.content, \"lxml\")\n",
    "    \n",
    "    title = soup.title.string if soup.title else \"No title found\"\n",
    "    print(f\"Title: {title}\\nURL: {link}\\n\")\n",
    "    \n",
    "    matches = [string for string in soup.strings if \"is back\".lower() in string.lower()]\n",
    "    \n",
    "    for match in matches:\n",
    "        match_stripped = match.strip() \n",
    "        #print(match_stripped)\n",
    "        \n",
    "        pattern = r'\\b([A-Za-z0-9®\\s]+?)\\s+is\\s+back\\b'\n",
    "        food = re.findall(pattern, match_stripped, flags=re.IGNORECASE)\n",
    "        \n",
    "        for item in food:\n",
    "            cr = r'(the|THE|[^\\w\\s])'\n",
    "            #new, num_replacements = re.subn(cr, r\"\", item) if use subn, need two variables\n",
    "            new = re.sub(cr, r\"\", item)\n",
    "            \n",
    "            print(new.strip())"
   ]
  }
 ],
 "metadata": {
  "kernelspec": {
   "display_name": "Python 3",
   "language": "python",
   "name": "python3"
  },
  "language_info": {
   "codemirror_mode": {
    "name": "ipython",
    "version": 3
   },
   "file_extension": ".py",
   "mimetype": "text/x-python",
   "name": "python",
   "nbconvert_exporter": "python",
   "pygments_lexer": "ipython3",
   "version": "3.10.11"
  }
 },
 "nbformat": 4,
 "nbformat_minor": 2
}
